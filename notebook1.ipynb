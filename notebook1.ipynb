{
 "cells": [
  {
   "cell_type": "code",
   "execution_count": 1,
   "metadata": {},
   "outputs": [
    {
     "name": "stdout",
     "output_type": "stream",
     "text": [
      "hey allemaal! ik ga een csv file lezen, leuk he?\n"
     ]
    }
   ],
   "source": [
    "print(\"hey allemaal! ik ga een csv file lezen, leuk he?\")\n",
    "import pandas as pd\n",
    "df = pd.read_csv('pokemon.csv')\n",
    "namen = df['Name']"
   ]
  },
  {
   "cell_type": "code",
   "execution_count": 7,
   "metadata": {},
   "outputs": [
    {
     "name": "stdout",
     "output_type": "stream",
     "text": [
      "api read application\n",
      "{'fact': 'There are more than 500 million domestic cats in the world, with approximately 40 recognized breeds.', 'length': 100}\n"
     ]
    }
   ],
   "source": [
    "print('api read application')\n",
    "import requests\n",
    "ding = requests.get(\"https://catfact.ninja/facts\")\n",
    "feitjes = ding.json()\n",
    "print(feitjes[\"data\"][7])"
   ]
  }
 ],
 "metadata": {
  "kernelspec": {
   "display_name": "doc9",
   "language": "python",
   "name": "python3"
  },
  "language_info": {
   "codemirror_mode": {
    "name": "ipython",
    "version": 3
   },
   "file_extension": ".py",
   "mimetype": "text/x-python",
   "name": "python",
   "nbconvert_exporter": "python",
   "pygments_lexer": "ipython3",
   "version": "3.9.17"
  }
 },
 "nbformat": 4,
 "nbformat_minor": 2
}
